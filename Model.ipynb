{
 "cells": [
  {
   "cell_type": "markdown",
   "id": "37b3e211",
   "metadata": {},
   "source": [
    "## 1. Load dữ liệu và chia Train, Val và Test"
   ]
  },
  {
   "cell_type": "code",
   "execution_count": 81,
   "id": "f1c7f401",
   "metadata": {},
   "outputs": [],
   "source": [
    "import pandas as pd\n",
    "from sklearn.model_selection import train_test_split\n",
    "dataset=pd.read_csv('diabetes.csv')\n",
    "\n",
    "X = dataset.iloc[:, :-1].values\n",
    "y = dataset.iloc[:, -1].values.reshape(-1,1)\n",
    "\n",
    "X_train_val,X_test,y_train_val,y_test=train_test_split(X,y,test_size=0.2)\n",
    "X_train,X_val,y_train,y_val,=train_test_split(X_train_val,y_train_val,test_size=0.2)"
   ]
  },
  {
   "cell_type": "code",
   "execution_count": 103,
   "id": "cef25fbe",
   "metadata": {},
   "outputs": [
    {
     "data": {
      "text/html": [
       "<div>\n",
       "<style scoped>\n",
       "    .dataframe tbody tr th:only-of-type {\n",
       "        vertical-align: middle;\n",
       "    }\n",
       "\n",
       "    .dataframe tbody tr th {\n",
       "        vertical-align: top;\n",
       "    }\n",
       "\n",
       "    .dataframe thead th {\n",
       "        text-align: right;\n",
       "    }\n",
       "</style>\n",
       "<table border=\"1\" class=\"dataframe\">\n",
       "  <thead>\n",
       "    <tr style=\"text-align: right;\">\n",
       "      <th></th>\n",
       "      <th>Pregnancies</th>\n",
       "      <th>Glucose</th>\n",
       "      <th>BloodPressure</th>\n",
       "      <th>SkinThickness</th>\n",
       "      <th>Insulin</th>\n",
       "      <th>BMI</th>\n",
       "      <th>DiabetesPedigreeFunction</th>\n",
       "      <th>Age</th>\n",
       "      <th>Outcome</th>\n",
       "    </tr>\n",
       "  </thead>\n",
       "  <tbody>\n",
       "    <tr>\n",
       "      <th>0</th>\n",
       "      <td>6</td>\n",
       "      <td>148</td>\n",
       "      <td>72</td>\n",
       "      <td>35</td>\n",
       "      <td>0</td>\n",
       "      <td>33.6</td>\n",
       "      <td>0.627</td>\n",
       "      <td>50</td>\n",
       "      <td>1</td>\n",
       "    </tr>\n",
       "    <tr>\n",
       "      <th>1</th>\n",
       "      <td>1</td>\n",
       "      <td>85</td>\n",
       "      <td>66</td>\n",
       "      <td>29</td>\n",
       "      <td>0</td>\n",
       "      <td>26.6</td>\n",
       "      <td>0.351</td>\n",
       "      <td>31</td>\n",
       "      <td>0</td>\n",
       "    </tr>\n",
       "    <tr>\n",
       "      <th>2</th>\n",
       "      <td>8</td>\n",
       "      <td>183</td>\n",
       "      <td>64</td>\n",
       "      <td>0</td>\n",
       "      <td>0</td>\n",
       "      <td>23.3</td>\n",
       "      <td>0.672</td>\n",
       "      <td>32</td>\n",
       "      <td>1</td>\n",
       "    </tr>\n",
       "    <tr>\n",
       "      <th>3</th>\n",
       "      <td>1</td>\n",
       "      <td>89</td>\n",
       "      <td>66</td>\n",
       "      <td>23</td>\n",
       "      <td>94</td>\n",
       "      <td>28.1</td>\n",
       "      <td>0.167</td>\n",
       "      <td>21</td>\n",
       "      <td>0</td>\n",
       "    </tr>\n",
       "    <tr>\n",
       "      <th>4</th>\n",
       "      <td>0</td>\n",
       "      <td>137</td>\n",
       "      <td>40</td>\n",
       "      <td>35</td>\n",
       "      <td>168</td>\n",
       "      <td>43.1</td>\n",
       "      <td>2.288</td>\n",
       "      <td>33</td>\n",
       "      <td>1</td>\n",
       "    </tr>\n",
       "    <tr>\n",
       "      <th>...</th>\n",
       "      <td>...</td>\n",
       "      <td>...</td>\n",
       "      <td>...</td>\n",
       "      <td>...</td>\n",
       "      <td>...</td>\n",
       "      <td>...</td>\n",
       "      <td>...</td>\n",
       "      <td>...</td>\n",
       "      <td>...</td>\n",
       "    </tr>\n",
       "    <tr>\n",
       "      <th>763</th>\n",
       "      <td>10</td>\n",
       "      <td>101</td>\n",
       "      <td>76</td>\n",
       "      <td>48</td>\n",
       "      <td>180</td>\n",
       "      <td>32.9</td>\n",
       "      <td>0.171</td>\n",
       "      <td>63</td>\n",
       "      <td>0</td>\n",
       "    </tr>\n",
       "    <tr>\n",
       "      <th>764</th>\n",
       "      <td>2</td>\n",
       "      <td>122</td>\n",
       "      <td>70</td>\n",
       "      <td>27</td>\n",
       "      <td>0</td>\n",
       "      <td>36.8</td>\n",
       "      <td>0.340</td>\n",
       "      <td>27</td>\n",
       "      <td>0</td>\n",
       "    </tr>\n",
       "    <tr>\n",
       "      <th>765</th>\n",
       "      <td>5</td>\n",
       "      <td>121</td>\n",
       "      <td>72</td>\n",
       "      <td>23</td>\n",
       "      <td>112</td>\n",
       "      <td>26.2</td>\n",
       "      <td>0.245</td>\n",
       "      <td>30</td>\n",
       "      <td>0</td>\n",
       "    </tr>\n",
       "    <tr>\n",
       "      <th>766</th>\n",
       "      <td>1</td>\n",
       "      <td>126</td>\n",
       "      <td>60</td>\n",
       "      <td>0</td>\n",
       "      <td>0</td>\n",
       "      <td>30.1</td>\n",
       "      <td>0.349</td>\n",
       "      <td>47</td>\n",
       "      <td>1</td>\n",
       "    </tr>\n",
       "    <tr>\n",
       "      <th>767</th>\n",
       "      <td>1</td>\n",
       "      <td>93</td>\n",
       "      <td>70</td>\n",
       "      <td>31</td>\n",
       "      <td>0</td>\n",
       "      <td>30.4</td>\n",
       "      <td>0.315</td>\n",
       "      <td>23</td>\n",
       "      <td>0</td>\n",
       "    </tr>\n",
       "  </tbody>\n",
       "</table>\n",
       "<p>768 rows × 9 columns</p>\n",
       "</div>"
      ],
      "text/plain": [
       "     Pregnancies  Glucose  BloodPressure  SkinThickness  Insulin   BMI  \\\n",
       "0              6      148             72             35        0  33.6   \n",
       "1              1       85             66             29        0  26.6   \n",
       "2              8      183             64              0        0  23.3   \n",
       "3              1       89             66             23       94  28.1   \n",
       "4              0      137             40             35      168  43.1   \n",
       "..           ...      ...            ...            ...      ...   ...   \n",
       "763           10      101             76             48      180  32.9   \n",
       "764            2      122             70             27        0  36.8   \n",
       "765            5      121             72             23      112  26.2   \n",
       "766            1      126             60              0        0  30.1   \n",
       "767            1       93             70             31        0  30.4   \n",
       "\n",
       "     DiabetesPedigreeFunction  Age  Outcome  \n",
       "0                       0.627   50        1  \n",
       "1                       0.351   31        0  \n",
       "2                       0.672   32        1  \n",
       "3                       0.167   21        0  \n",
       "4                       2.288   33        1  \n",
       "..                        ...  ...      ...  \n",
       "763                     0.171   63        0  \n",
       "764                     0.340   27        0  \n",
       "765                     0.245   30        0  \n",
       "766                     0.349   47        1  \n",
       "767                     0.315   23        0  \n",
       "\n",
       "[768 rows x 9 columns]"
      ]
     },
     "execution_count": 103,
     "metadata": {},
     "output_type": "execute_result"
    }
   ],
   "source": [
    "dataset"
   ]
  },
  {
   "cell_type": "markdown",
   "id": "07df651a",
   "metadata": {},
   "source": [
    "## 2. Xây dựng Model"
   ]
  },
  {
   "cell_type": "code",
   "execution_count": 85,
   "id": "42248d66",
   "metadata": {},
   "outputs": [],
   "source": [
    "from keras import Sequential\n",
    "from keras.layers import Dense\n",
    "\n",
    "model=Sequential()\n",
    "model.add(Dense(16,input_dim=8,activation='relu'))\n",
    "model.add(Dense(8,activation='relu'))\n",
    "model.add(Dense(1,activation='sigmoid'))"
   ]
  },
  {
   "cell_type": "markdown",
   "id": "145cce1a",
   "metadata": {},
   "source": [
    "## 3. Summary Model"
   ]
  },
  {
   "cell_type": "code",
   "execution_count": 86,
   "id": "66a0484f",
   "metadata": {},
   "outputs": [
    {
     "name": "stdout",
     "output_type": "stream",
     "text": [
      "Model: \"sequential_2\"\n",
      "_________________________________________________________________\n",
      "Layer (type)                 Output Shape              Param #   \n",
      "=================================================================\n",
      "dense_6 (Dense)              (None, 16)                144       \n",
      "_________________________________________________________________\n",
      "dense_7 (Dense)              (None, 8)                 136       \n",
      "_________________________________________________________________\n",
      "dense_8 (Dense)              (None, 1)                 9         \n",
      "=================================================================\n",
      "Total params: 289\n",
      "Trainable params: 289\n",
      "Non-trainable params: 0\n",
      "_________________________________________________________________\n"
     ]
    }
   ],
   "source": [
    "model.summary()\n"
   ]
  },
  {
   "cell_type": "markdown",
   "id": "be269575",
   "metadata": {},
   "source": [
    "## 4. Compile Model"
   ]
  },
  {
   "cell_type": "code",
   "execution_count": 87,
   "id": "b5ad76db",
   "metadata": {},
   "outputs": [],
   "source": [
    "model.compile(loss='binary_crossentropy',optimizer='adam',metrics=['accuracy'])"
   ]
  },
  {
   "cell_type": "markdown",
   "id": "64543a51",
   "metadata": {},
   "source": [
    "## 5. Train Model"
   ]
  },
  {
   "cell_type": "code",
   "execution_count": 88,
   "id": "4de2bc1c",
   "metadata": {},
   "outputs": [
    {
     "name": "stdout",
     "output_type": "stream",
     "text": [
      "Epoch 1/100\n",
      "62/62 [==============================] - 1s 8ms/step - loss: 7.9291 - accuracy: 0.5621 - val_loss: 3.3329 - val_accuracy: 0.5854\n",
      "Epoch 2/100\n",
      "62/62 [==============================] - 0s 5ms/step - loss: 3.4582 - accuracy: 0.6090 - val_loss: 1.9090 - val_accuracy: 0.5772\n",
      "Epoch 3/100\n",
      "62/62 [==============================] - 0s 5ms/step - loss: 1.7065 - accuracy: 0.6090 - val_loss: 1.1117 - val_accuracy: 0.5285\n",
      "Epoch 4/100\n",
      "62/62 [==============================] - 0s 5ms/step - loss: 0.9894 - accuracy: 0.6191 - val_loss: 0.9983 - val_accuracy: 0.4878\n",
      "Epoch 5/100\n",
      "62/62 [==============================] - 0s 5ms/step - loss: 0.8396 - accuracy: 0.5927 - val_loss: 0.8600 - val_accuracy: 0.5447\n",
      "Epoch 6/100\n",
      "62/62 [==============================] - 0s 5ms/step - loss: 0.7702 - accuracy: 0.6171 - val_loss: 0.7752 - val_accuracy: 0.6016\n",
      "Epoch 7/100\n",
      "62/62 [==============================] - 0s 5ms/step - loss: 0.7705 - accuracy: 0.6151 - val_loss: 0.7664 - val_accuracy: 0.6341\n",
      "Epoch 8/100\n",
      "62/62 [==============================] - 0s 5ms/step - loss: 0.7019 - accuracy: 0.6273 - val_loss: 0.7498 - val_accuracy: 0.5691\n",
      "Epoch 9/100\n",
      "62/62 [==============================] - 0s 5ms/step - loss: 0.6942 - accuracy: 0.6314 - val_loss: 0.7433 - val_accuracy: 0.6260\n",
      "Epoch 10/100\n",
      "62/62 [==============================] - 0s 5ms/step - loss: 0.7005 - accuracy: 0.6517 - val_loss: 0.7649 - val_accuracy: 0.5935\n",
      "Epoch 11/100\n",
      "62/62 [==============================] - 0s 5ms/step - loss: 0.6800 - accuracy: 0.6497 - val_loss: 0.7124 - val_accuracy: 0.5772\n",
      "Epoch 12/100\n",
      "62/62 [==============================] - 0s 5ms/step - loss: 0.6671 - accuracy: 0.6619 - val_loss: 0.7213 - val_accuracy: 0.6341\n",
      "Epoch 13/100\n",
      "62/62 [==============================] - 0s 5ms/step - loss: 0.6669 - accuracy: 0.6741 - val_loss: 0.7477 - val_accuracy: 0.6016\n",
      "Epoch 14/100\n",
      "62/62 [==============================] - 0s 5ms/step - loss: 0.6462 - accuracy: 0.6741 - val_loss: 0.7878 - val_accuracy: 0.6098\n",
      "Epoch 15/100\n",
      "62/62 [==============================] - 0s 5ms/step - loss: 0.6597 - accuracy: 0.6660 - val_loss: 0.7083 - val_accuracy: 0.5935\n",
      "Epoch 16/100\n",
      "62/62 [==============================] - 0s 5ms/step - loss: 0.6269 - accuracy: 0.6823 - val_loss: 0.6742 - val_accuracy: 0.6423\n",
      "Epoch 17/100\n",
      "62/62 [==============================] - 0s 5ms/step - loss: 0.6313 - accuracy: 0.6762 - val_loss: 0.6784 - val_accuracy: 0.6667\n",
      "Epoch 18/100\n",
      "62/62 [==============================] - 0s 5ms/step - loss: 0.6139 - accuracy: 0.6925 - val_loss: 0.6891 - val_accuracy: 0.6016\n",
      "Epoch 19/100\n",
      "62/62 [==============================] - 0s 5ms/step - loss: 0.6323 - accuracy: 0.6925 - val_loss: 0.7182 - val_accuracy: 0.5935\n",
      "Epoch 20/100\n",
      "62/62 [==============================] - 0s 5ms/step - loss: 0.6083 - accuracy: 0.7006 - val_loss: 0.6768 - val_accuracy: 0.6748\n",
      "Epoch 21/100\n",
      "62/62 [==============================] - 0s 5ms/step - loss: 0.5951 - accuracy: 0.6864 - val_loss: 0.6870 - val_accuracy: 0.6260\n",
      "Epoch 22/100\n",
      "62/62 [==============================] - 0s 5ms/step - loss: 0.6129 - accuracy: 0.6843 - val_loss: 0.7283 - val_accuracy: 0.6585\n",
      "Epoch 23/100\n",
      "62/62 [==============================] - 0s 5ms/step - loss: 0.6041 - accuracy: 0.7128 - val_loss: 0.6595 - val_accuracy: 0.6423\n",
      "Epoch 24/100\n",
      "62/62 [==============================] - 0s 5ms/step - loss: 0.6096 - accuracy: 0.6945 - val_loss: 0.6970 - val_accuracy: 0.6667\n",
      "Epoch 25/100\n",
      "62/62 [==============================] - 0s 5ms/step - loss: 0.5842 - accuracy: 0.7189 - val_loss: 0.7226 - val_accuracy: 0.6179\n",
      "Epoch 26/100\n",
      "62/62 [==============================] - 0s 5ms/step - loss: 0.6051 - accuracy: 0.6965 - val_loss: 0.6472 - val_accuracy: 0.6504\n",
      "Epoch 27/100\n",
      "62/62 [==============================] - 0s 5ms/step - loss: 0.6023 - accuracy: 0.6925 - val_loss: 0.7077 - val_accuracy: 0.6585\n",
      "Epoch 28/100\n",
      "62/62 [==============================] - 0s 5ms/step - loss: 0.5880 - accuracy: 0.7006 - val_loss: 0.6795 - val_accuracy: 0.6423\n",
      "Epoch 29/100\n",
      "62/62 [==============================] - 0s 5ms/step - loss: 0.5732 - accuracy: 0.7169 - val_loss: 0.6374 - val_accuracy: 0.6585\n",
      "Epoch 30/100\n",
      "62/62 [==============================] - 0s 5ms/step - loss: 0.5785 - accuracy: 0.7128 - val_loss: 0.6691 - val_accuracy: 0.6748\n",
      "Epoch 31/100\n",
      "62/62 [==============================] - 0s 5ms/step - loss: 0.5813 - accuracy: 0.7312 - val_loss: 0.6809 - val_accuracy: 0.6504\n",
      "Epoch 32/100\n",
      "62/62 [==============================] - 0s 5ms/step - loss: 0.5744 - accuracy: 0.7108 - val_loss: 0.6536 - val_accuracy: 0.6748\n",
      "Epoch 33/100\n",
      "62/62 [==============================] - 0s 5ms/step - loss: 0.6034 - accuracy: 0.7230 - val_loss: 0.6507 - val_accuracy: 0.6667\n",
      "Epoch 34/100\n",
      "62/62 [==============================] - 0s 5ms/step - loss: 0.5791 - accuracy: 0.7149 - val_loss: 0.6749 - val_accuracy: 0.6667\n",
      "Epoch 35/100\n",
      "62/62 [==============================] - 0s 5ms/step - loss: 0.5583 - accuracy: 0.7434 - val_loss: 0.6677 - val_accuracy: 0.6667\n",
      "Epoch 36/100\n",
      "62/62 [==============================] - 0s 5ms/step - loss: 0.5623 - accuracy: 0.7393 - val_loss: 0.7596 - val_accuracy: 0.6260\n",
      "Epoch 37/100\n",
      "62/62 [==============================] - 0s 5ms/step - loss: 0.5906 - accuracy: 0.7149 - val_loss: 0.6393 - val_accuracy: 0.6341\n",
      "Epoch 38/100\n",
      "62/62 [==============================] - 0s 5ms/step - loss: 0.5864 - accuracy: 0.7210 - val_loss: 0.6679 - val_accuracy: 0.6748\n",
      "Epoch 39/100\n",
      "62/62 [==============================] - 0s 5ms/step - loss: 0.5840 - accuracy: 0.6945 - val_loss: 0.6557 - val_accuracy: 0.6748\n",
      "Epoch 40/100\n",
      "62/62 [==============================] - 0s 5ms/step - loss: 0.5760 - accuracy: 0.7251 - val_loss: 0.6301 - val_accuracy: 0.6829\n",
      "Epoch 41/100\n",
      "62/62 [==============================] - 0s 5ms/step - loss: 0.5569 - accuracy: 0.7271 - val_loss: 0.6429 - val_accuracy: 0.6667\n",
      "Epoch 42/100\n",
      "62/62 [==============================] - 0s 5ms/step - loss: 0.5728 - accuracy: 0.7291 - val_loss: 0.6281 - val_accuracy: 0.6667\n",
      "Epoch 43/100\n",
      "62/62 [==============================] - 0s 5ms/step - loss: 0.5790 - accuracy: 0.7149 - val_loss: 0.6799 - val_accuracy: 0.6341\n",
      "Epoch 44/100\n",
      "62/62 [==============================] - 0s 5ms/step - loss: 0.5572 - accuracy: 0.7312 - val_loss: 0.6155 - val_accuracy: 0.6748\n",
      "Epoch 45/100\n",
      "62/62 [==============================] - 0s 5ms/step - loss: 0.5447 - accuracy: 0.7271 - val_loss: 0.6530 - val_accuracy: 0.6667\n",
      "Epoch 46/100\n",
      "62/62 [==============================] - 0s 5ms/step - loss: 0.5739 - accuracy: 0.7413 - val_loss: 0.6544 - val_accuracy: 0.6667\n",
      "Epoch 47/100\n",
      "62/62 [==============================] - 0s 5ms/step - loss: 0.5582 - accuracy: 0.7291 - val_loss: 0.6246 - val_accuracy: 0.6829\n",
      "Epoch 48/100\n",
      "62/62 [==============================] - 0s 5ms/step - loss: 0.5584 - accuracy: 0.7373 - val_loss: 0.6581 - val_accuracy: 0.6667\n",
      "Epoch 49/100\n",
      "62/62 [==============================] - 0s 5ms/step - loss: 0.5501 - accuracy: 0.7454 - val_loss: 0.6395 - val_accuracy: 0.6911\n",
      "Epoch 50/100\n",
      "62/62 [==============================] - 0s 5ms/step - loss: 0.5485 - accuracy: 0.7312 - val_loss: 0.6157 - val_accuracy: 0.6829\n",
      "Epoch 51/100\n",
      "62/62 [==============================] - 0s 5ms/step - loss: 0.5721 - accuracy: 0.7210 - val_loss: 0.6331 - val_accuracy: 0.6748\n",
      "Epoch 52/100\n",
      "62/62 [==============================] - 0s 5ms/step - loss: 0.5584 - accuracy: 0.7454 - val_loss: 0.7098 - val_accuracy: 0.6504\n",
      "Epoch 53/100\n",
      "62/62 [==============================] - 0s 5ms/step - loss: 0.5793 - accuracy: 0.7189 - val_loss: 0.7912 - val_accuracy: 0.6098\n",
      "Epoch 54/100\n",
      "62/62 [==============================] - 0s 5ms/step - loss: 0.5677 - accuracy: 0.7312 - val_loss: 0.6865 - val_accuracy: 0.6748\n",
      "Epoch 55/100\n",
      "62/62 [==============================] - 0s 5ms/step - loss: 0.5713 - accuracy: 0.7271 - val_loss: 0.6667 - val_accuracy: 0.6504\n",
      "Epoch 56/100\n",
      "62/62 [==============================] - 0s 5ms/step - loss: 0.5439 - accuracy: 0.7352 - val_loss: 0.6966 - val_accuracy: 0.6423\n",
      "Epoch 57/100\n",
      "62/62 [==============================] - 0s 5ms/step - loss: 0.5543 - accuracy: 0.7210 - val_loss: 0.6617 - val_accuracy: 0.6667\n",
      "Epoch 58/100\n",
      "62/62 [==============================] - 0s 5ms/step - loss: 0.5395 - accuracy: 0.7413 - val_loss: 0.6332 - val_accuracy: 0.7154\n"
     ]
    },
    {
     "name": "stdout",
     "output_type": "stream",
     "text": [
      "Epoch 59/100\n",
      "62/62 [==============================] - 0s 5ms/step - loss: 0.5439 - accuracy: 0.7434 - val_loss: 0.6092 - val_accuracy: 0.6992\n",
      "Epoch 60/100\n",
      "62/62 [==============================] - 0s 5ms/step - loss: 0.5437 - accuracy: 0.7454 - val_loss: 0.7611 - val_accuracy: 0.6341\n",
      "Epoch 61/100\n",
      "62/62 [==============================] - 0s 5ms/step - loss: 0.5537 - accuracy: 0.7352 - val_loss: 0.6102 - val_accuracy: 0.6829\n",
      "Epoch 62/100\n",
      "62/62 [==============================] - 0s 5ms/step - loss: 0.5494 - accuracy: 0.7515 - val_loss: 0.6151 - val_accuracy: 0.7073\n",
      "Epoch 63/100\n",
      "62/62 [==============================] - 0s 5ms/step - loss: 0.5366 - accuracy: 0.7536 - val_loss: 0.6527 - val_accuracy: 0.6829\n",
      "Epoch 64/100\n",
      "62/62 [==============================] - 0s 5ms/step - loss: 0.5354 - accuracy: 0.7413 - val_loss: 0.6839 - val_accuracy: 0.6911\n",
      "Epoch 65/100\n",
      "62/62 [==============================] - 0s 5ms/step - loss: 0.5617 - accuracy: 0.7271 - val_loss: 0.5870 - val_accuracy: 0.6748\n",
      "Epoch 66/100\n",
      "62/62 [==============================] - 0s 5ms/step - loss: 0.5519 - accuracy: 0.7434 - val_loss: 0.6208 - val_accuracy: 0.6829\n",
      "Epoch 67/100\n",
      "62/62 [==============================] - 0s 5ms/step - loss: 0.5316 - accuracy: 0.7617 - val_loss: 0.6309 - val_accuracy: 0.7154\n",
      "Epoch 68/100\n",
      "62/62 [==============================] - 0s 5ms/step - loss: 0.5315 - accuracy: 0.7658 - val_loss: 0.6809 - val_accuracy: 0.6829\n",
      "Epoch 69/100\n",
      "62/62 [==============================] - 0s 5ms/step - loss: 0.5351 - accuracy: 0.7495 - val_loss: 0.5989 - val_accuracy: 0.7154\n",
      "Epoch 70/100\n",
      "62/62 [==============================] - 0s 5ms/step - loss: 0.5430 - accuracy: 0.7454 - val_loss: 0.6854 - val_accuracy: 0.6829\n",
      "Epoch 71/100\n",
      "62/62 [==============================] - 0s 5ms/step - loss: 0.5376 - accuracy: 0.7556 - val_loss: 0.6378 - val_accuracy: 0.6667\n",
      "Epoch 72/100\n",
      "62/62 [==============================] - 0s 4ms/step - loss: 0.5308 - accuracy: 0.7495 - val_loss: 0.6868 - val_accuracy: 0.6829\n",
      "Epoch 73/100\n",
      "62/62 [==============================] - 0s 5ms/step - loss: 0.5264 - accuracy: 0.7637 - val_loss: 0.6541 - val_accuracy: 0.6911\n",
      "Epoch 74/100\n",
      "62/62 [==============================] - 0s 5ms/step - loss: 0.5350 - accuracy: 0.7495 - val_loss: 0.7429 - val_accuracy: 0.6504\n",
      "Epoch 75/100\n",
      "62/62 [==============================] - 0s 5ms/step - loss: 0.5412 - accuracy: 0.7413 - val_loss: 0.6280 - val_accuracy: 0.7236\n",
      "Epoch 76/100\n",
      "62/62 [==============================] - 0s 5ms/step - loss: 0.5471 - accuracy: 0.7475 - val_loss: 0.6683 - val_accuracy: 0.6829\n",
      "Epoch 77/100\n",
      "62/62 [==============================] - 0s 5ms/step - loss: 0.5353 - accuracy: 0.7475 - val_loss: 0.6132 - val_accuracy: 0.7236\n",
      "Epoch 78/100\n",
      "62/62 [==============================] - 0s 5ms/step - loss: 0.5237 - accuracy: 0.7699 - val_loss: 0.5901 - val_accuracy: 0.6829\n",
      "Epoch 79/100\n",
      "62/62 [==============================] - 0s 5ms/step - loss: 0.5196 - accuracy: 0.7536 - val_loss: 0.5968 - val_accuracy: 0.6667\n",
      "Epoch 80/100\n",
      "62/62 [==============================] - 0s 5ms/step - loss: 0.5224 - accuracy: 0.7475 - val_loss: 0.6728 - val_accuracy: 0.6748\n",
      "Epoch 81/100\n",
      "62/62 [==============================] - 0s 5ms/step - loss: 0.5327 - accuracy: 0.7739 - val_loss: 0.6626 - val_accuracy: 0.6341\n",
      "Epoch 82/100\n",
      "62/62 [==============================] - 0s 5ms/step - loss: 0.5114 - accuracy: 0.7597 - val_loss: 0.6109 - val_accuracy: 0.6667\n",
      "Epoch 83/100\n",
      "62/62 [==============================] - 0s 5ms/step - loss: 0.5145 - accuracy: 0.7475 - val_loss: 0.6094 - val_accuracy: 0.6911\n",
      "Epoch 84/100\n",
      "62/62 [==============================] - 0s 5ms/step - loss: 0.5122 - accuracy: 0.7576 - val_loss: 0.6228 - val_accuracy: 0.6748\n",
      "Epoch 85/100\n",
      "62/62 [==============================] - 0s 5ms/step - loss: 0.5087 - accuracy: 0.7576 - val_loss: 0.5782 - val_accuracy: 0.6911\n",
      "Epoch 86/100\n",
      "62/62 [==============================] - 0s 5ms/step - loss: 0.5474 - accuracy: 0.7352 - val_loss: 0.5956 - val_accuracy: 0.6748\n",
      "Epoch 87/100\n",
      "62/62 [==============================] - 0s 5ms/step - loss: 0.5123 - accuracy: 0.7617 - val_loss: 0.6706 - val_accuracy: 0.6585\n",
      "Epoch 88/100\n",
      "62/62 [==============================] - 0s 5ms/step - loss: 0.5208 - accuracy: 0.7413 - val_loss: 0.6964 - val_accuracy: 0.6829\n",
      "Epoch 89/100\n",
      "62/62 [==============================] - 0s 5ms/step - loss: 0.5479 - accuracy: 0.7597 - val_loss: 0.6715 - val_accuracy: 0.6829\n",
      "Epoch 90/100\n",
      "62/62 [==============================] - 0s 5ms/step - loss: 0.5155 - accuracy: 0.7637 - val_loss: 0.5816 - val_accuracy: 0.7236\n",
      "Epoch 91/100\n",
      "62/62 [==============================] - 0s 5ms/step - loss: 0.5211 - accuracy: 0.7617 - val_loss: 0.6272 - val_accuracy: 0.7073\n",
      "Epoch 92/100\n",
      "62/62 [==============================] - 0s 5ms/step - loss: 0.5043 - accuracy: 0.7760 - val_loss: 0.6097 - val_accuracy: 0.6992\n",
      "Epoch 93/100\n",
      "62/62 [==============================] - 0s 5ms/step - loss: 0.5138 - accuracy: 0.7637 - val_loss: 0.5817 - val_accuracy: 0.7154\n",
      "Epoch 94/100\n",
      "62/62 [==============================] - 0s 5ms/step - loss: 0.5080 - accuracy: 0.7739 - val_loss: 0.6086 - val_accuracy: 0.7154\n",
      "Epoch 95/100\n",
      "62/62 [==============================] - 0s 5ms/step - loss: 0.4988 - accuracy: 0.7739 - val_loss: 0.6256 - val_accuracy: 0.6992\n",
      "Epoch 96/100\n",
      "62/62 [==============================] - 0s 5ms/step - loss: 0.5205 - accuracy: 0.7576 - val_loss: 0.5992 - val_accuracy: 0.6829\n",
      "Epoch 97/100\n",
      "62/62 [==============================] - 0s 5ms/step - loss: 0.5038 - accuracy: 0.7678 - val_loss: 0.5870 - val_accuracy: 0.6911\n",
      "Epoch 98/100\n",
      "62/62 [==============================] - 0s 5ms/step - loss: 0.5257 - accuracy: 0.7576 - val_loss: 0.6937 - val_accuracy: 0.6748\n",
      "Epoch 99/100\n",
      "62/62 [==============================] - 0s 5ms/step - loss: 0.5105 - accuracy: 0.7658 - val_loss: 0.6231 - val_accuracy: 0.6911\n",
      "Epoch 100/100\n",
      "62/62 [==============================] - 0s 5ms/step - loss: 0.5181 - accuracy: 0.7760 - val_loss: 0.6439 - val_accuracy: 0.7154\n"
     ]
    },
    {
     "data": {
      "text/plain": [
       "<keras.callbacks.History at 0x2d4946a7be0>"
      ]
     },
     "execution_count": 88,
     "metadata": {},
     "output_type": "execute_result"
    }
   ],
   "source": [
    "model.fit(X_train,y_train,epochs=100,batch_size=8,validation_data=(X_val,y_val))\n"
   ]
  },
  {
   "cell_type": "markdown",
   "id": "4a26f3f3",
   "metadata": {},
   "source": [
    "## 5. Save Model"
   ]
  },
  {
   "cell_type": "code",
   "execution_count": 89,
   "id": "33079168",
   "metadata": {},
   "outputs": [],
   "source": [
    "model.save('mymodel.h5')"
   ]
  },
  {
   "cell_type": "markdown",
   "id": "0cf1bcef",
   "metadata": {},
   "source": [
    "## 6. Load Model"
   ]
  },
  {
   "cell_type": "code",
   "execution_count": 90,
   "id": "edc636bd",
   "metadata": {},
   "outputs": [],
   "source": [
    "from keras.models import load_model\n",
    "model_1=load_model('mymodel.h5')"
   ]
  },
  {
   "cell_type": "markdown",
   "id": "71e53f1d",
   "metadata": {},
   "source": [
    "## 7. Đánh giá"
   ]
  },
  {
   "cell_type": "code",
   "execution_count": 91,
   "id": "3f2de427",
   "metadata": {},
   "outputs": [
    {
     "name": "stdout",
     "output_type": "stream",
     "text": [
      "5/5 [==============================] - 0s 7ms/step - loss: 0.5345 - accuracy: 0.7468\n",
      "loss= 0.534511148929596\n",
      "acc= 0.7467532753944397\n"
     ]
    }
   ],
   "source": [
    "loss,acc = model_1.evaluate(X_test,y_test)\n",
    "print(\"loss=\",loss)\n",
    "print(\"acc=\",acc)"
   ]
  },
  {
   "cell_type": "code",
   "execution_count": 92,
   "id": "51a77921",
   "metadata": {},
   "outputs": [],
   "source": [
    "# make probability predictions with the model\n",
    "predictions = model.predict(X_val)\n",
    "# round predictions \n",
    "y_pred_val = [round(x[0]) for x in predictions]"
   ]
  },
  {
   "cell_type": "code",
   "execution_count": 93,
   "id": "fd15f1bb",
   "metadata": {},
   "outputs": [
    {
     "name": "stdout",
     "output_type": "stream",
     "text": [
      "              precision    recall  f1-score   support\n",
      "\n",
      "           0     0.6768    0.9571    0.7929        70\n",
      "           1     0.8750    0.3962    0.5455        53\n",
      "\n",
      "    accuracy                         0.7154       123\n",
      "   macro avg     0.7759    0.6767    0.6692       123\n",
      "weighted avg     0.7622    0.7154    0.6863       123\n",
      "\n"
     ]
    }
   ],
   "source": [
    "from sklearn.metrics import classification_report\n",
    "print(classification_report(y_val, y_pred_val,digits=4))"
   ]
  },
  {
   "cell_type": "code",
   "execution_count": 94,
   "id": "c246efcd",
   "metadata": {},
   "outputs": [
    {
     "name": "stdout",
     "output_type": "stream",
     "text": [
      "[1.0, 126.0, 56.0, 29.0, 152.0, 28.7, 0.801, 21.0] => 1 (expected 0)\n",
      "[3.0, 80.0, 82.0, 31.0, 70.0, 34.2, 1.292, 27.0] => 0 (expected 1)\n",
      "[3.0, 162.0, 52.0, 38.0, 0.0, 37.2, 0.652, 24.0] => 1 (expected 1)\n",
      "[1.0, 99.0, 58.0, 10.0, 0.0, 25.4, 0.551, 21.0] => 0 (expected 0)\n",
      "[12.0, 100.0, 84.0, 33.0, 105.0, 30.0, 0.488, 46.0] => 0 (expected 0)\n",
      "[3.0, 173.0, 82.0, 48.0, 465.0, 38.4, 2.137, 25.0] => 1 (expected 1)\n",
      "[4.0, 127.0, 88.0, 11.0, 155.0, 34.5, 0.598, 28.0] => 0 (expected 0)\n",
      "[3.0, 90.0, 78.0, 0.0, 0.0, 42.7, 0.559, 21.0] => 0 (expected 0)\n",
      "[3.0, 116.0, 0.0, 0.0, 0.0, 23.5, 0.187, 23.0] => 1 (expected 0)\n",
      "[10.0, 68.0, 106.0, 23.0, 49.0, 35.5, 0.285, 47.0] => 0 (expected 0)\n",
      "[4.0, 128.0, 70.0, 0.0, 0.0, 34.3, 0.303, 24.0] => 0 (expected 0)\n",
      "[2.0, 85.0, 65.0, 0.0, 0.0, 39.6, 0.93, 27.0] => 0 (expected 0)\n",
      "[1.0, 112.0, 80.0, 45.0, 132.0, 34.8, 0.217, 24.0] => 0 (expected 0)\n",
      "[2.0, 128.0, 64.0, 42.0, 0.0, 40.0, 1.101, 24.0] => 0 (expected 0)\n",
      "[0.0, 167.0, 0.0, 0.0, 0.0, 32.3, 0.839, 30.0] => 1 (expected 1)\n",
      "[1.0, 89.0, 66.0, 23.0, 94.0, 28.1, 0.167, 21.0] => 0 (expected 0)\n",
      "[2.0, 141.0, 58.0, 34.0, 128.0, 25.4, 0.699, 24.0] => 1 (expected 0)\n",
      "[5.0, 99.0, 54.0, 28.0, 83.0, 34.0, 0.499, 30.0] => 0 (expected 0)\n",
      "[2.0, 122.0, 52.0, 43.0, 158.0, 36.2, 0.816, 28.0] => 1 (expected 0)\n",
      "[6.0, 105.0, 80.0, 28.0, 0.0, 32.5, 0.878, 26.0] => 0 (expected 0)\n"
     ]
    }
   ],
   "source": [
    "predictions_2 = (model.predict(X_test) > 0.5).astype(int)\n",
    "for i in range(20):\n",
    "    print('%s => %d (expected %d)' % (X_test[i].tolist(), predictions_2[i], y_test[i]))"
   ]
  },
  {
   "cell_type": "markdown",
   "id": "78f268da",
   "metadata": {},
   "source": [
    "## Thử với giá trị\n"
   ]
  },
  {
   "cell_type": "code",
   "execution_count": 98,
   "id": "9a6480f1",
   "metadata": {},
   "outputs": [],
   "source": [
    "X_new=X_test[9]\n",
    "y_new=y_test[9]"
   ]
  },
  {
   "cell_type": "code",
   "execution_count": 99,
   "id": "3764fb12",
   "metadata": {},
   "outputs": [],
   "source": [
    "import numpy\n",
    "X_new=numpy.expand_dims(X_new,axis=0)"
   ]
  },
  {
   "cell_type": "code",
   "execution_count": 100,
   "id": "bff60a58",
   "metadata": {},
   "outputs": [
    {
     "name": "stdout",
     "output_type": "stream",
     "text": [
      "Giá trị dự đoán =  Không tiểu đường (0) [[0.00472439]]\n",
      "Giá trị đúng là = Không tiểu đường (0) [0]\n"
     ]
    }
   ],
   "source": [
    "y_predict=model.predict(X_new)\n",
    "result='Tiểu đường (1)'\n",
    "if y_predict<= 0.5 :\n",
    "    result=\"Không tiểu đường (0)\"\n",
    "check='Tiểu đường (1)'\n",
    "if y_new == 0. :\n",
    "    check=\"Không tiểu đường (0)\"\n",
    "print('Giá trị dự đoán = ',result, y_predict)\n",
    "print('Giá trị đúng là =',check, y_new)"
   ]
  },
  {
   "cell_type": "markdown",
   "id": "5ba20776",
   "metadata": {},
   "source": [
    "## Confusion Matrix"
   ]
  },
  {
   "cell_type": "code",
   "execution_count": 101,
   "id": "bdca910f",
   "metadata": {},
   "outputs": [
    {
     "name": "stdout",
     "output_type": "stream",
     "text": [
      "Confusion matrix:\n",
      "[[34 77]\n",
      " [15 28]]\n"
     ]
    }
   ],
   "source": [
    "from sklearn.metrics import confusion_matrix\n",
    "cnf_matrix = confusion_matrix(y_test, y_pred_test)\n",
    "print('Confusion matrix:')\n",
    "print(cnf_matrix)"
   ]
  },
  {
   "cell_type": "code",
   "execution_count": 102,
   "id": "f82f86e1",
   "metadata": {},
   "outputs": [
    {
     "data": {
      "image/png": "[encoded data removed]",
      "text/plain": [
       "<Figure size 432x288 with 2 Axes>"
      ]
     },
     "metadata": {
      "needs_background": "light"
     },
     "output_type": "display_data"
    },
    {
     "data": {
      "image/png": "[encoded data removed]",
      "text/plain": [
       "<Figure size 432x288 with 2 Axes>"
      ]
     },
     "metadata": {
      "needs_background": "light"
     },
     "output_type": "display_data"
    }
   ],
   "source": [
    "import numpy as np\n",
    "import matplotlib.pyplot as plt\n",
    "import itertools\n",
    "def plot_confusion_matrix(cm, classes,\n",
    "                          normalize=False,\n",
    "                          title='Confusion matrix',\n",
    "                          cmap=plt.cm.Blues):\n",
    "    \"\"\"\n",
    "    This function prints and plots the confusion matrix.\n",
    "    Normalization can be applied by setting `normalize=True`.\n",
    "    \"\"\"\n",
    "    if normalize:\n",
    "        cm = cm.astype('float') / cm.sum(axis=1, keepdims = True)\n",
    "\n",
    "    plt.imshow(cm, interpolation='nearest', cmap=cmap)\n",
    "    plt.title(title)\n",
    "    plt.colorbar()\n",
    "    tick_marks = np.arange(len(classes))\n",
    "    plt.xticks(tick_marks, classes, rotation=45)\n",
    "    plt.yticks(tick_marks, classes)\n",
    "\n",
    "    fmt = '.2f' if normalize else 'd'\n",
    "    thresh = cm.max() / 2.\n",
    "    for i, j in itertools.product(range(cm.shape[0]), range(cm.shape[1])):\n",
    "        plt.text(j, i, format(cm[i, j], fmt),\n",
    "                 horizontalalignment=\"center\",\n",
    "                 color=\"white\" if cm[i, j] > thresh else \"black\")\n",
    "\n",
    "    plt.tight_layout()\n",
    "    plt.ylabel('True label')\n",
    "    plt.xlabel('Predicted label')\n",
    "    \n",
    "class_names = [0, 1]\n",
    "plt.figure()\n",
    "plot_confusion_matrix(cnf_matrix, classes=class_names,\n",
    "                      title='Confusion matrix, without normalization')\n",
    "\n",
    "# Plot normalized confusion matrix\n",
    "plt.figure()\n",
    "plot_confusion_matrix(cnf_matrix, classes=class_names, normalize=True,\n",
    "                      title='Normalized confusion matrix')\n",
    "\n",
    "plt.show()"
   ]
  },
  {
   "cell_type": "code",
   "execution_count": null,
   "id": "4b9fc28e",
   "metadata": {},
   "outputs": [],
   "source": []
  }
 ],
 "metadata": {
  "kernelspec": {
   "display_name": "Python 3 (ipykernel)",
   "language": "python",
   "name": "python3"
  },
  "language_info": {
   "codemirror_mode": {
    "name": "ipython",
    "version": 3
   },
   "file_extension": ".py",
   "mimetype": "text/x-python",
   "name": "python",
   "nbconvert_exporter": "python",
   "pygments_lexer": "ipython3",
   "version": "3.9.12"
  }
 },
 "nbformat": 4,
 "nbformat_minor": 5
}
